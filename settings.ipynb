{
 "cells": [
  {
   "cell_type": "code",
   "execution_count": 2,
   "metadata": {},
   "outputs": [
    {
     "ename": "",
     "evalue": "",
     "output_type": "error",
     "traceback": [
      "\u001b[1;31mThe Kernel crashed while executing code in the the current cell or a previous cell. Please review the code in the cell(s) to identify a possible cause of the failure. Click <a href='https://aka.ms/vscodeJupyterKernelCrash'>here</a> for more info. View Jupyter <a href='command:jupyter.viewOutput'>log</a> for further details."
     ]
    }
   ],
   "source": [
    "import pygame, sys\n",
    "pygame.init()\n",
    "pygame.font.init()\n",
    "\n",
    "WHITE = (255, 255, 255)\n",
    "BLACK = (0, 0, 0)\n",
    "RED = (255, 0, 0)\n",
    "BLUE = (0, 255, 0)\n",
    "GREEN = (0, 0, 255)\n",
    "\n",
    "FPS = 240\n",
    "\n",
    "WIDTH, HEIGHT = 600, 700\n",
    "\n",
    "ROWS = COLS = 100\n",
    "\n",
    "TOOLBAR_HEIGHT = HEIGHT - WIDTH\n",
    "\n",
    "PIXEL_SIZE = WIDTH // COLS\n",
    "\n",
    "BG_COLOR = WHITE\n",
    "WORLD_MAP = [\n",
    "]\n",
    "DRAW_GRID_LINES = True\n",
    "def get_font(size):\n",
    "    return pygame.font.SysFont(\"comicsans\", size)"
   ]
  }
 ],
 "metadata": {
  "kernelspec": {
   "display_name": "Python 3.8.9 64-bit",
   "language": "python",
   "name": "python3"
  },
  "language_info": {
   "codemirror_mode": {
    "name": "ipython",
    "version": 3
   },
   "file_extension": ".py",
   "mimetype": "text/x-python",
   "name": "python",
   "nbconvert_exporter": "python",
   "pygments_lexer": "ipython3",
   "version": "3.8.9"
  },
  "orig_nbformat": 4,
  "vscode": {
   "interpreter": {
    "hash": "31f2aee4e71d21fbe5cf8b01ff0e069b9275f58929596ceb00d14d90e3e16cd6"
   }
  }
 },
 "nbformat": 4,
 "nbformat_minor": 2
}
